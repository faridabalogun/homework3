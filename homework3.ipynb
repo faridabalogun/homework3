{
 "cells": [
  {
   "cell_type": "code",
   "execution_count": 2,
   "id": "2249f861-8069-426d-b4b5-ee404d6cabf6",
   "metadata": {},
   "outputs": [
    {
     "name": "stdout",
     "output_type": "stream",
     "text": [
      "Hello World\n"
     ]
    }
   ],
   "source": [
    "print('Hello World')"
   ]
  },
  {
   "cell_type": "code",
   "execution_count": 23,
   "id": "8c7b88ad-ab0a-42fb-bd0d-8ded7b5936ed",
   "metadata": {},
   "outputs": [
    {
     "name": "stdout",
     "output_type": "stream",
     "text": [
      "                  dow                                               text\n",
      "date                                                                    \n",
      "2021-08-01     Sunday  Application for degree for January and Februar...\n",
      "2021-08-18  Wednesday                 Last day to apply for Study Abroad\n",
      "2021-08-24    Tuesday  Last day of Registration; Last day to file ePe...\n",
      "2021-08-25  Wednesday  Start of Fall Term; Classes begin; Initial Reg...\n",
      "2021-08-26   Thursday                     Last day for Independent Study\n",
      "2021-08-28   Saturday                      First day of Saturday Classes\n",
      "2021-08-31    Tuesday  Last day to add a class to an existing enrollm...\n",
      "2021-09-01  Wednesday  Verification of Enrollment rosters available t...\n",
      "2021-09-06     Monday   College Closed; Last day for 50% tuition refund;\n",
      "2021-09-09   Thursday                               Freshman Convocation\n"
     ]
    }
   ],
   "source": [
    "from bs4 import BeautifulSoup\n",
    "import pandas as pd\n",
    "import requests\n",
    "from datetime import datetime\n",
    "url = 'https://www.ccny.cuny.edu/registrar/fall'\n",
    "r = requests.get(url)\n",
    "html_doc = r.text\n",
    "soup = BeautifulSoup(html_doc)\n",
    "events =[]\n",
    "for cols in soup.find_all('tr'):\n",
    "    lines = [line.strip() for line in cols.get_text(\"\\n\").split(\"\\n\") if line.strip()]\n",
    "    if len(lines)>=3:\n",
    "        date_column = lines[0]  \n",
    "        dow = lines[1]  \n",
    "        text = \" \".join(lines[2:])\n",
    "\n",
    "    try:\n",
    "        date = datetime.strptime(date_column + \", 2021\", \"%B %d, %Y\")\n",
    "        events.append([date, dow, text])\n",
    "    except ValueError:\n",
    "        continue\n",
    "df = pd.DataFrame(events, columns=[\"date\", \"dow\", \"text\"]).set_index(\"date\")\n",
    "print(df.head(10))\n",
    "    \n",
    "   "
   ]
  }
 ],
 "metadata": {
  "kernelspec": {
   "display_name": "Python 3 (ipykernel)",
   "language": "python",
   "name": "python3"
  },
  "language_info": {
   "codemirror_mode": {
    "name": "ipython",
    "version": 3
   },
   "file_extension": ".py",
   "mimetype": "text/x-python",
   "name": "python",
   "nbconvert_exporter": "python",
   "pygments_lexer": "ipython3",
   "version": "3.12.9"
  }
 },
 "nbformat": 4,
 "nbformat_minor": 5
}
